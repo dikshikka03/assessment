{
  "nbformat": 4,
  "nbformat_minor": 0,
  "metadata": {
    "colab": {
      "provenance": [],
      "authorship_tag": "ABX9TyPNaMS64EvBtw2LMMJzC9dH",
      "include_colab_link": true
    },
    "kernelspec": {
      "name": "python3",
      "display_name": "Python 3"
    },
    "language_info": {
      "name": "python"
    }
  },
  "cells": [
    {
      "cell_type": "markdown",
      "metadata": {
        "id": "view-in-github",
        "colab_type": "text"
      },
      "source": [
        "<a href=\"https://colab.research.google.com/github/dikshikka03/assessment/blob/main/python_code_for_standrd_deviation_and_errors.ipynb\" target=\"_parent\"><img src=\"https://colab.research.google.com/assets/colab-badge.svg\" alt=\"Open In Colab\"/></a>"
      ]
    },
    {
      "cell_type": "code",
      "execution_count": null,
      "metadata": {
        "colab": {
          "base_uri": "https://localhost:8080/"
        },
        "id": "eYBmt2uyQvNX",
        "outputId": "a25cf405-1e73-4864-b5a8-cafcf2e9b303"
      },
      "outputs": [
        {
          "output_type": "stream",
          "name": "stdout",
          "text": [
            "Standard Deviation: 14.142135623730951\n",
            "Mean Squared Error: 6.0\n",
            "Root Mean Squared Error: 2.449489742783178\n"
          ]
        }
      ],
      "source": [
        "import numpy as np\n",
        "\n",
        "actual = [10, 20, 30, 40, 50]\n",
        "predicted = [12, 18, 33, 37, 52]\n",
        "\n",
        "a = np.array(actual)\n",
        "p = np.array(predicted)\n",
        "\n",
        "# Standard deviation\n",
        "print(\"Standard Deviation:\", np.std(a))\n",
        "\n",
        "# Mean Squared Error (MSE)\n",
        "mse = np.mean((a - p) ** 2)\n",
        "print(\"Mean Squared Error:\", mse)\n",
        "\n",
        "# Root Mean Squared Error (RMSE)\n",
        "rmse = np.sqrt(mse)\n",
        "print(\"Root Mean Squared Error:\", rmse)"
      ]
    }
  ]
}